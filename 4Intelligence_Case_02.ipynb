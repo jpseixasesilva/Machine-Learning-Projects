{
  "nbformat": 4,
  "nbformat_minor": 0,
  "metadata": {
    "colab": {
      "name": "4Intelligence Case 02.ipynb",
      "provenance": [],
      "authorship_tag": "ABX9TyO/rmD8xSCa7gcZ5AfGB6rD",
      "include_colab_link": true
    },
    "kernelspec": {
      "name": "python3",
      "display_name": "Python 3"
    }
  },
  "cells": [
    {
      "cell_type": "markdown",
      "metadata": {
        "id": "view-in-github",
        "colab_type": "text"
      },
      "source": [
        "<a href=\"https://colab.research.google.com/github/jpseixasesilva/Machine-Learning-Projects/blob/master/4Intelligence_Case_02.ipynb\" target=\"_parent\"><img src=\"https://colab.research.google.com/assets/colab-badge.svg\" alt=\"Open In Colab\"/></a>"
      ]
    },
    {
      "cell_type": "markdown",
      "metadata": {
        "id": "FYNLhuUCRZkc",
        "colab_type": "text"
      },
      "source": [
        "Description\n",
        "\n",
        "1. Show the evolution of total monthly and total annual exports from Brazil (all states and to everywhere) of ‘soybeans’, ‘soybean oil’ and ‘soybean meal’;\n",
        "2. What are the 3 most important products exported by Brazil in the last 5 years?\n",
        "3. What are the main routes through which Brazil have been exporting ‘corn’ in the last few years? Are there differences in the relative importancem of routes depending on the product?\n",
        "4. Which countries have been the most important trade partners for Brazil in terms of ‘corn’ and ‘sugar’ in the last 3 years?\n",
        "5. For each of the products in the dataset, show the 5 most important states in terms of exports?\n",
        "6. Now, we ask you to show your modelling skills. Feel free to use any type of modelling approach, but bear in mind that the modelling approach depends on the nature of your data, and so different models yield different estimates and forecasts. To help you out in this task we also provide you with a dataset of possible covariates (.xlsx). They all come from public sources (IMF, World Bank) and are presented in index number format. Question: What should be the total brazilian soybeans, soybean_meal, and corn export forecasts, in tons, for the next 11 years (2020-2030)? We’re mostly interested in the annual forecast.\n"
      ]
    },
    {
      "cell_type": "code",
      "metadata": {
        "id": "DDqk2fuxGTh1",
        "colab_type": "code",
        "colab": {
          "base_uri": "https://localhost:8080/",
          "height": 124
        },
        "outputId": "058693bf-293f-4e3c-ff52-32eadad99576"
      },
      "source": [
        "# Load the Drive helper and mount\n",
        "from google.colab import drive\n",
        "\n",
        "# This will prompt for authorization.\n",
        "drive.mount('/content/drive')"
      ],
      "execution_count": null,
      "outputs": [
        {
          "output_type": "stream",
          "text": [
            "Go to this URL in a browser: https://accounts.google.com/o/oauth2/auth?client_id=947318989803-6bn6qk8qdgf4n4g3pfee6491hc0brc4i.apps.googleusercontent.com&redirect_uri=urn%3aietf%3awg%3aoauth%3a2.0%3aoob&response_type=code&scope=email%20https%3a%2f%2fwww.googleapis.com%2fauth%2fdocs.test%20https%3a%2f%2fwww.googleapis.com%2fauth%2fdrive%20https%3a%2f%2fwww.googleapis.com%2fauth%2fdrive.photos.readonly%20https%3a%2f%2fwww.googleapis.com%2fauth%2fpeopleapi.readonly\n",
            "\n",
            "Enter your authorization code:\n",
            "··········\n",
            "Mounted at /content/drive\n"
          ],
          "name": "stdout"
        }
      ]
    },
    {
      "cell_type": "code",
      "metadata": {
        "id": "cXtPDxflGcJV",
        "colab_type": "code",
        "colab": {
          "base_uri": "https://localhost:8080/",
          "height": 34
        },
        "outputId": "6fb9f3e3-2510-446b-b0a6-1813d03f0e83"
      },
      "source": [
        "cd /content/drive/My Drive/Colab Notebooks/4Intelligence ChallengeJob"
      ],
      "execution_count": null,
      "outputs": [
        {
          "output_type": "stream",
          "text": [
            "/content/drive/My Drive/Colab Notebooks/4Intelligence ChallengeJob\n"
          ],
          "name": "stdout"
        }
      ]
    },
    {
      "cell_type": "code",
      "metadata": {
        "id": "ljbPWiBbGlE-",
        "colab_type": "code",
        "colab": {}
      },
      "source": [
        "import pandas as pd\n",
        "import matplotlib.pyplot as plt\n",
        "\n"
      ],
      "execution_count": null,
      "outputs": []
    },
    {
      "cell_type": "code",
      "metadata": {
        "id": "LUJXloVLGmJn",
        "colab_type": "code",
        "colab": {}
      },
      "source": [
        "df = pd.read_csv('data_comexstat.csv', encoding='latin-1')"
      ],
      "execution_count": null,
      "outputs": []
    },
    {
      "cell_type": "code",
      "metadata": {
        "id": "Hg_7G9Aeyfk0",
        "colab_type": "code",
        "colab": {
          "base_uri": "https://localhost:8080/",
          "height": 424
        },
        "outputId": "4ba7ef71-1970-4837-f924-d80032cb80a2"
      },
      "source": [
        "df[df['type']=='Export']"
      ],
      "execution_count": null,
      "outputs": [
        {
          "output_type": "execute_result",
          "data": {
            "text/html": [
              "<div>\n",
              "<style scoped>\n",
              "    .dataframe tbody tr th:only-of-type {\n",
              "        vertical-align: middle;\n",
              "    }\n",
              "\n",
              "    .dataframe tbody tr th {\n",
              "        vertical-align: top;\n",
              "    }\n",
              "\n",
              "    .dataframe thead th {\n",
              "        text-align: right;\n",
              "    }\n",
              "</style>\n",
              "<table border=\"1\" class=\"dataframe\">\n",
              "  <thead>\n",
              "    <tr style=\"text-align: right;\">\n",
              "      <th></th>\n",
              "      <th>date</th>\n",
              "      <th>product</th>\n",
              "      <th>state</th>\n",
              "      <th>country</th>\n",
              "      <th>type</th>\n",
              "      <th>route</th>\n",
              "      <th>tons</th>\n",
              "      <th>usd</th>\n",
              "    </tr>\n",
              "  </thead>\n",
              "  <tbody>\n",
              "    <tr>\n",
              "      <th>2</th>\n",
              "      <td>1997-01-01</td>\n",
              "      <td>corn</td>\n",
              "      <td>GO</td>\n",
              "      <td>Bolivia</td>\n",
              "      <td>Export</td>\n",
              "      <td>Ground</td>\n",
              "      <td>0.200</td>\n",
              "      <td>180.0</td>\n",
              "    </tr>\n",
              "    <tr>\n",
              "      <th>3</th>\n",
              "      <td>1997-01-01</td>\n",
              "      <td>corn</td>\n",
              "      <td>GO</td>\n",
              "      <td>United States</td>\n",
              "      <td>Export</td>\n",
              "      <td>Sea</td>\n",
              "      <td>3.488</td>\n",
              "      <td>5688.0</td>\n",
              "    </tr>\n",
              "    <tr>\n",
              "      <th>5</th>\n",
              "      <td>1997-01-01</td>\n",
              "      <td>corn</td>\n",
              "      <td>MS</td>\n",
              "      <td>Paraguay</td>\n",
              "      <td>Export</td>\n",
              "      <td>Ground</td>\n",
              "      <td>40.000</td>\n",
              "      <td>38700.0</td>\n",
              "    </tr>\n",
              "    <tr>\n",
              "      <th>9</th>\n",
              "      <td>1997-01-01</td>\n",
              "      <td>corn</td>\n",
              "      <td>PR</td>\n",
              "      <td>Netherlands</td>\n",
              "      <td>Export</td>\n",
              "      <td>Sea</td>\n",
              "      <td>170000.000</td>\n",
              "      <td>20000000.0</td>\n",
              "    </tr>\n",
              "    <tr>\n",
              "      <th>10</th>\n",
              "      <td>1997-01-01</td>\n",
              "      <td>corn</td>\n",
              "      <td>PR</td>\n",
              "      <td>Paraguay</td>\n",
              "      <td>Export</td>\n",
              "      <td>Ground</td>\n",
              "      <td>258.300</td>\n",
              "      <td>386733.0</td>\n",
              "    </tr>\n",
              "    <tr>\n",
              "      <th>...</th>\n",
              "      <td>...</td>\n",
              "      <td>...</td>\n",
              "      <td>...</td>\n",
              "      <td>...</td>\n",
              "      <td>...</td>\n",
              "      <td>...</td>\n",
              "      <td>...</td>\n",
              "      <td>...</td>\n",
              "    </tr>\n",
              "    <tr>\n",
              "      <th>117952</th>\n",
              "      <td>2019-12-01</td>\n",
              "      <td>wheat</td>\n",
              "      <td>PR</td>\n",
              "      <td>United States</td>\n",
              "      <td>Export</td>\n",
              "      <td>Sea</td>\n",
              "      <td>0.400</td>\n",
              "      <td>400.0</td>\n",
              "    </tr>\n",
              "    <tr>\n",
              "      <th>117957</th>\n",
              "      <td>2019-12-01</td>\n",
              "      <td>wheat</td>\n",
              "      <td>RS</td>\n",
              "      <td>Vietnam</td>\n",
              "      <td>Export</td>\n",
              "      <td>Sea</td>\n",
              "      <td>36698.000</td>\n",
              "      <td>6963002.0</td>\n",
              "    </tr>\n",
              "    <tr>\n",
              "      <th>117961</th>\n",
              "      <td>2019-12-01</td>\n",
              "      <td>wheat</td>\n",
              "      <td>SP</td>\n",
              "      <td>Ireland</td>\n",
              "      <td>Export</td>\n",
              "      <td>Sea</td>\n",
              "      <td>0.500</td>\n",
              "      <td>477.0</td>\n",
              "    </tr>\n",
              "    <tr>\n",
              "      <th>117963</th>\n",
              "      <td>2019-12-01</td>\n",
              "      <td>wheat</td>\n",
              "      <td>SP</td>\n",
              "      <td>Liberia</td>\n",
              "      <td>Export</td>\n",
              "      <td>Other</td>\n",
              "      <td>0.025</td>\n",
              "      <td>50.0</td>\n",
              "    </tr>\n",
              "    <tr>\n",
              "      <th>117964</th>\n",
              "      <td>2019-12-01</td>\n",
              "      <td>wheat</td>\n",
              "      <td>SP</td>\n",
              "      <td>Marshall Islands</td>\n",
              "      <td>Export</td>\n",
              "      <td>Other</td>\n",
              "      <td>0.010</td>\n",
              "      <td>85.0</td>\n",
              "    </tr>\n",
              "  </tbody>\n",
              "</table>\n",
              "<p>105861 rows × 8 columns</p>\n",
              "</div>"
            ],
            "text/plain": [
              "              date product state  ...   route        tons         usd\n",
              "2       1997-01-01    corn    GO  ...  Ground       0.200       180.0\n",
              "3       1997-01-01    corn    GO  ...     Sea       3.488      5688.0\n",
              "5       1997-01-01    corn    MS  ...  Ground      40.000     38700.0\n",
              "9       1997-01-01    corn    PR  ...     Sea  170000.000  20000000.0\n",
              "10      1997-01-01    corn    PR  ...  Ground     258.300    386733.0\n",
              "...            ...     ...   ...  ...     ...         ...         ...\n",
              "117952  2019-12-01   wheat    PR  ...     Sea       0.400       400.0\n",
              "117957  2019-12-01   wheat    RS  ...     Sea   36698.000   6963002.0\n",
              "117961  2019-12-01   wheat    SP  ...     Sea       0.500       477.0\n",
              "117963  2019-12-01   wheat    SP  ...   Other       0.025        50.0\n",
              "117964  2019-12-01   wheat    SP  ...   Other       0.010        85.0\n",
              "\n",
              "[105861 rows x 8 columns]"
            ]
          },
          "metadata": {
            "tags": []
          },
          "execution_count": 26
        }
      ]
    },
    {
      "cell_type": "code",
      "metadata": {
        "id": "mY92hpJuyHLu",
        "colab_type": "code",
        "colab": {
          "base_uri": "https://localhost:8080/",
          "height": 206
        },
        "outputId": "bb0aae06-54d5-41db-a978-44c9b908bce6"
      },
      "source": [
        "df.head()"
      ],
      "execution_count": null,
      "outputs": [
        {
          "output_type": "execute_result",
          "data": {
            "text/html": [
              "<div>\n",
              "<style scoped>\n",
              "    .dataframe tbody tr th:only-of-type {\n",
              "        vertical-align: middle;\n",
              "    }\n",
              "\n",
              "    .dataframe tbody tr th {\n",
              "        vertical-align: top;\n",
              "    }\n",
              "\n",
              "    .dataframe thead th {\n",
              "        text-align: right;\n",
              "    }\n",
              "</style>\n",
              "<table border=\"1\" class=\"dataframe\">\n",
              "  <thead>\n",
              "    <tr style=\"text-align: right;\">\n",
              "      <th></th>\n",
              "      <th>date</th>\n",
              "      <th>product</th>\n",
              "      <th>state</th>\n",
              "      <th>country</th>\n",
              "      <th>type</th>\n",
              "      <th>route</th>\n",
              "      <th>tons</th>\n",
              "      <th>usd</th>\n",
              "    </tr>\n",
              "  </thead>\n",
              "  <tbody>\n",
              "    <tr>\n",
              "      <th>0</th>\n",
              "      <td>1997-01-01</td>\n",
              "      <td>corn</td>\n",
              "      <td>ES</td>\n",
              "      <td>United States</td>\n",
              "      <td>Import</td>\n",
              "      <td>Sea</td>\n",
              "      <td>44.045</td>\n",
              "      <td>113029.0</td>\n",
              "    </tr>\n",
              "    <tr>\n",
              "      <th>1</th>\n",
              "      <td>1997-01-01</td>\n",
              "      <td>corn</td>\n",
              "      <td>GO</td>\n",
              "      <td>Argentina</td>\n",
              "      <td>Import</td>\n",
              "      <td>Ground</td>\n",
              "      <td>54.000</td>\n",
              "      <td>36720.0</td>\n",
              "    </tr>\n",
              "    <tr>\n",
              "      <th>2</th>\n",
              "      <td>1997-01-01</td>\n",
              "      <td>corn</td>\n",
              "      <td>GO</td>\n",
              "      <td>Bolivia</td>\n",
              "      <td>Export</td>\n",
              "      <td>Ground</td>\n",
              "      <td>0.200</td>\n",
              "      <td>180.0</td>\n",
              "    </tr>\n",
              "    <tr>\n",
              "      <th>3</th>\n",
              "      <td>1997-01-01</td>\n",
              "      <td>corn</td>\n",
              "      <td>GO</td>\n",
              "      <td>United States</td>\n",
              "      <td>Export</td>\n",
              "      <td>Sea</td>\n",
              "      <td>3.488</td>\n",
              "      <td>5688.0</td>\n",
              "    </tr>\n",
              "    <tr>\n",
              "      <th>4</th>\n",
              "      <td>1997-01-01</td>\n",
              "      <td>corn</td>\n",
              "      <td>MG</td>\n",
              "      <td>Argentina</td>\n",
              "      <td>Import</td>\n",
              "      <td>Ground</td>\n",
              "      <td>27.000</td>\n",
              "      <td>18630.0</td>\n",
              "    </tr>\n",
              "  </tbody>\n",
              "</table>\n",
              "</div>"
            ],
            "text/plain": [
              "         date product state        country    type   route    tons       usd\n",
              "0  1997-01-01    corn    ES  United States  Import     Sea  44.045  113029.0\n",
              "1  1997-01-01    corn    GO      Argentina  Import  Ground  54.000   36720.0\n",
              "2  1997-01-01    corn    GO        Bolivia  Export  Ground   0.200     180.0\n",
              "3  1997-01-01    corn    GO  United States  Export     Sea   3.488    5688.0\n",
              "4  1997-01-01    corn    MG      Argentina  Import  Ground  27.000   18630.0"
            ]
          },
          "metadata": {
            "tags": []
          },
          "execution_count": 21
        }
      ]
    },
    {
      "cell_type": "code",
      "metadata": {
        "id": "McQl8JK8ziec",
        "colab_type": "code",
        "colab": {
          "base_uri": "https://localhost:8080/",
          "height": 269
        },
        "outputId": "500c6063-de19-4673-c982-2cbfc5312a4c"
      },
      "source": [
        "df[['usd'] & (df.type=='Export')].groupby([df['product']]).sum()\n",
        "#groupby([data['gender'], data['test preparation course']])\n",
        "#tfp[tfp['isocode']=='USA']\n",
        "#df[((df.age >= 30) & (df.age <= 50)) & (df.marital.isin([\"married\", \"divorced\"]))][colunas].groupby([\"marital\"]).mean()"
      ],
      "execution_count": null,
      "outputs": [
        {
          "output_type": "execute_result",
          "data": {
            "text/html": [
              "<div>\n",
              "<style scoped>\n",
              "    .dataframe tbody tr th:only-of-type {\n",
              "        vertical-align: middle;\n",
              "    }\n",
              "\n",
              "    .dataframe tbody tr th {\n",
              "        vertical-align: top;\n",
              "    }\n",
              "\n",
              "    .dataframe thead th {\n",
              "        text-align: right;\n",
              "    }\n",
              "</style>\n",
              "<table border=\"1\" class=\"dataframe\">\n",
              "  <thead>\n",
              "    <tr style=\"text-align: right;\">\n",
              "      <th></th>\n",
              "      <th>tons</th>\n",
              "      <th>usd</th>\n",
              "    </tr>\n",
              "    <tr>\n",
              "      <th>product</th>\n",
              "      <th></th>\n",
              "      <th></th>\n",
              "    </tr>\n",
              "  </thead>\n",
              "  <tbody>\n",
              "    <tr>\n",
              "      <th>corn</th>\n",
              "      <td>2.789230e+08</td>\n",
              "      <td>5.196579e+10</td>\n",
              "    </tr>\n",
              "    <tr>\n",
              "      <th>soybean_meal</th>\n",
              "      <td>2.978233e+08</td>\n",
              "      <td>9.335736e+10</td>\n",
              "    </tr>\n",
              "    <tr>\n",
              "      <th>soybean_oil</th>\n",
              "      <td>3.899132e+07</td>\n",
              "      <td>2.708342e+10</td>\n",
              "    </tr>\n",
              "    <tr>\n",
              "      <th>soybeans</th>\n",
              "      <td>7.339587e+08</td>\n",
              "      <td>2.762390e+11</td>\n",
              "    </tr>\n",
              "    <tr>\n",
              "      <th>sugar</th>\n",
              "      <td>2.719595e+08</td>\n",
              "      <td>9.806823e+10</td>\n",
              "    </tr>\n",
              "    <tr>\n",
              "      <th>wheat</th>\n",
              "      <td>7.652557e+06</td>\n",
              "      <td>1.767894e+09</td>\n",
              "    </tr>\n",
              "  </tbody>\n",
              "</table>\n",
              "</div>"
            ],
            "text/plain": [
              "                      tons           usd\n",
              "product                                 \n",
              "corn          2.789230e+08  5.196579e+10\n",
              "soybean_meal  2.978233e+08  9.335736e+10\n",
              "soybean_oil   3.899132e+07  2.708342e+10\n",
              "soybeans      7.339587e+08  2.762390e+11\n",
              "sugar         2.719595e+08  9.806823e+10\n",
              "wheat         7.652557e+06  1.767894e+09"
            ]
          },
          "metadata": {
            "tags": []
          },
          "execution_count": 65
        }
      ]
    },
    {
      "cell_type": "code",
      "metadata": {
        "id": "EQEhw7-JzuJ9",
        "colab_type": "code",
        "colab": {}
      },
      "source": [
        "df.groupby("
      ],
      "execution_count": null,
      "outputs": []
    },
    {
      "cell_type": "code",
      "metadata": {
        "id": "zRLmz3F_QiDe",
        "colab_type": "code",
        "colab": {
          "base_uri": "https://localhost:8080/",
          "height": 414
        },
        "outputId": "ed95fd3b-a685-4a7f-8ad8-d1136b920c46"
      },
      "source": [
        "plt.figure(figsize=(35,8))\n",
        "plt.plot('date', 'usd', data=df[df['type']=='Export'])\n",
        "\n",
        "plt.xlabel('Date')\n",
        "plt.ylabel('USD')\n",
        "plt.xticks(rotation=45);"
      ],
      "execution_count": null,
      "outputs": [
        {
          "output_type": "display_data",
          "data": {
            "image/png": "[encoded data removed]",
            "text/plain": [
              "<Figure size 2520x576 with 1 Axes>"
            ]
          },
          "metadata": {
            "tags": [],
            "needs_background": "light"
          }
        }
      ]
    },
    {
      "cell_type": "code",
      "metadata": {
        "id": "C2JUxWLlQ7uz",
        "colab_type": "code",
        "colab": {}
      },
      "source": [
        ""
      ],
      "execution_count": null,
      "outputs": []
    }
  ]
}